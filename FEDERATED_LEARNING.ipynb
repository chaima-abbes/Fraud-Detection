{
  "cells": [
    {
      "cell_type": "code",
      "execution_count": null,
      "id": "0def7418",
      "metadata": {
        "id": "0def7418"
      },
      "outputs": [],
      "source": [
        "# 📥 1. Importer les packages\n",
        "import pandas as pd\n",
        "import numpy as np\n",
        "import joblib\n",
        "import matplotlib.pyplot as plt\n",
        "import seaborn as sns\n",
        "from sklearn.metrics import roc_curve, auc, confusion_matrix, classification_report, accuracy_score, precision_score, recall_score, f1_score\n",
        "from sklearn.model_selection import train_test_split\n",
        "import xgboost as xgb\n",
        "import os\n"
      ]
    },
    {
      "cell_type": "code",
      "source": [
        "from google.colab import drive\n",
        "drive.mount('/content/drive')"
      ],
      "metadata": {
        "colab": {
          "base_uri": "https://localhost:8080/"
        },
        "id": "AYBOYbwabYOO",
        "outputId": "10da360a-c9bc-45a6-db8d-455860c3be42"
      },
      "id": "AYBOYbwabYOO",
      "execution_count": null,
      "outputs": [
        {
          "output_type": "stream",
          "name": "stdout",
          "text": [
            "Mounted at /content/drive\n"
          ]
        }
      ]
    },
    {
      "cell_type": "code",
      "execution_count": null,
      "id": "b2c5413f",
      "metadata": {
        "id": "b2c5413f"
      },
      "outputs": [],
      "source": [
        "# 📂 2. Charger les données fusionnées\n",
        "df_train_fused = pd.read_csv(\"/content/drive/MyDrive/archive/train_fusionne.csv\")\n",
        "df_test_fused = pd.read_csv(\"/content/drive/MyDrive/archive/test_fusionne.csv\")\n",
        "\n",
        "X_train_fused = df_train_fused.drop(columns=[\"label\"])\n",
        "y_train = df_train_fused[\"label\"]\n",
        "\n",
        "X_test_fused = df_test_fused.drop(columns=[\"label\"])\n",
        "y_test = df_test_fused[\"label\"]\n",
        "\n",
        "# 🔹 Charger le modèle existant (optionnel)\n",
        "xgb_model = joblib.load(\"/content/drive/MyDrive/archive/mon_xgboost.pkl\")\n"
      ]
    },
    {
      "cell_type": "code",
      "execution_count": null,
      "id": "76e1d5fc",
      "metadata": {
        "id": "76e1d5fc",
        "colab": {
          "base_uri": "https://localhost:8080/"
        },
        "outputId": "71cd1b54-aec6-4730-a73f-88da560fa2df"
      },
      "outputs": [
        {
          "output_type": "stream",
          "name": "stderr",
          "text": [
            "/usr/local/lib/python3.11/dist-packages/numpy/_core/fromnumeric.py:57: FutureWarning: 'DataFrame.swapaxes' is deprecated and will be removed in a future version. Please use 'DataFrame.transpose' instead.\n",
            "  return bound(*args, **kwds)\n",
            "/usr/local/lib/python3.11/dist-packages/numpy/_core/fromnumeric.py:57: FutureWarning: 'Series.swapaxes' is deprecated and will be removed in a future version. Please use 'Series.transpose' instead.\n",
            "  return bound(*args, **kwds)\n"
          ]
        }
      ],
      "source": [
        "# 🔥 3. Simulation de Federated Learning\n",
        "n_clients = 5\n",
        "rounds = 5\n",
        "\n",
        "# Splitter X_train_fused et y_train pour chaque client\n",
        "clients_data = []\n",
        "X_client_splits = np.array_split(X_train_fused, n_clients)\n",
        "y_client_splits = np.array_split(y_train, n_clients)\n",
        "\n",
        "for i in range(n_clients):\n",
        "    clients_data.append((X_client_splits[i], y_client_splits[i]))\n"
      ]
    },
    {
      "cell_type": "code",
      "execution_count": null,
      "id": "5db746ff",
      "metadata": {
        "id": "5db746ff"
      },
      "outputs": [],
      "source": [
        "# Fonction pour entraîner un modèle localement\n",
        "def train_local_model(X_local, y_local):\n",
        "    model = xgb.XGBClassifier(use_label_encoder=False, eval_metric='logloss')\n",
        "    model.fit(X_local, y_local)\n",
        "    return model\n"
      ]
    },
    {
      "cell_type": "code",
      "execution_count": null,
      "id": "6a1a4a21",
      "metadata": {
        "id": "6a1a4a21",
        "colab": {
          "base_uri": "https://localhost:8080/"
        },
        "outputId": "dc64e180-7c4d-4d24-cb30-c9f6b571422d"
      },
      "outputs": [
        {
          "output_type": "stream",
          "name": "stdout",
          "text": [
            "\n",
            "▶️ Round 1/5\n",
            "\t- Client 1: Training local model\n"
          ]
        },
        {
          "output_type": "stream",
          "name": "stderr",
          "text": [
            "/usr/local/lib/python3.11/dist-packages/xgboost/core.py:158: UserWarning: [23:31:01] WARNING: /workspace/src/learner.cc:740: \n",
            "Parameters: { \"use_label_encoder\" } are not used.\n",
            "\n",
            "  warnings.warn(smsg, UserWarning)\n"
          ]
        },
        {
          "output_type": "stream",
          "name": "stdout",
          "text": [
            "\t- Client 2: Training local model\n"
          ]
        },
        {
          "output_type": "stream",
          "name": "stderr",
          "text": [
            "/usr/local/lib/python3.11/dist-packages/xgboost/core.py:158: UserWarning: [23:31:15] WARNING: /workspace/src/learner.cc:740: \n",
            "Parameters: { \"use_label_encoder\" } are not used.\n",
            "\n",
            "  warnings.warn(smsg, UserWarning)\n"
          ]
        },
        {
          "output_type": "stream",
          "name": "stdout",
          "text": [
            "\t- Client 3: Training local model\n"
          ]
        },
        {
          "output_type": "stream",
          "name": "stderr",
          "text": [
            "/usr/local/lib/python3.11/dist-packages/xgboost/core.py:158: UserWarning: [23:31:28] WARNING: /workspace/src/learner.cc:740: \n",
            "Parameters: { \"use_label_encoder\" } are not used.\n",
            "\n",
            "  warnings.warn(smsg, UserWarning)\n"
          ]
        },
        {
          "output_type": "stream",
          "name": "stdout",
          "text": [
            "\t- Client 4: Training local model\n"
          ]
        },
        {
          "output_type": "stream",
          "name": "stderr",
          "text": [
            "/usr/local/lib/python3.11/dist-packages/xgboost/core.py:158: UserWarning: [23:31:41] WARNING: /workspace/src/learner.cc:740: \n",
            "Parameters: { \"use_label_encoder\" } are not used.\n",
            "\n",
            "  warnings.warn(smsg, UserWarning)\n"
          ]
        },
        {
          "output_type": "stream",
          "name": "stdout",
          "text": [
            "\t- Client 5: Training local model\n"
          ]
        },
        {
          "output_type": "stream",
          "name": "stderr",
          "text": [
            "/usr/local/lib/python3.11/dist-packages/xgboost/core.py:158: UserWarning: [23:31:53] WARNING: /workspace/src/learner.cc:740: \n",
            "Parameters: { \"use_label_encoder\" } are not used.\n",
            "\n",
            "  warnings.warn(smsg, UserWarning)\n"
          ]
        },
        {
          "output_type": "stream",
          "name": "stdout",
          "text": [
            "\n",
            "▶️ Round 2/5\n",
            "\t- Client 1: Training local model\n"
          ]
        },
        {
          "output_type": "stream",
          "name": "stderr",
          "text": [
            "/usr/local/lib/python3.11/dist-packages/xgboost/core.py:158: UserWarning: [23:32:04] WARNING: /workspace/src/learner.cc:740: \n",
            "Parameters: { \"use_label_encoder\" } are not used.\n",
            "\n",
            "  warnings.warn(smsg, UserWarning)\n"
          ]
        },
        {
          "output_type": "stream",
          "name": "stdout",
          "text": [
            "\t- Client 2: Training local model\n"
          ]
        },
        {
          "output_type": "stream",
          "name": "stderr",
          "text": [
            "/usr/local/lib/python3.11/dist-packages/xgboost/core.py:158: UserWarning: [23:32:17] WARNING: /workspace/src/learner.cc:740: \n",
            "Parameters: { \"use_label_encoder\" } are not used.\n",
            "\n",
            "  warnings.warn(smsg, UserWarning)\n"
          ]
        },
        {
          "output_type": "stream",
          "name": "stdout",
          "text": [
            "\t- Client 3: Training local model\n"
          ]
        },
        {
          "output_type": "stream",
          "name": "stderr",
          "text": [
            "/usr/local/lib/python3.11/dist-packages/xgboost/core.py:158: UserWarning: [23:32:30] WARNING: /workspace/src/learner.cc:740: \n",
            "Parameters: { \"use_label_encoder\" } are not used.\n",
            "\n",
            "  warnings.warn(smsg, UserWarning)\n"
          ]
        },
        {
          "output_type": "stream",
          "name": "stdout",
          "text": [
            "\t- Client 4: Training local model\n"
          ]
        },
        {
          "output_type": "stream",
          "name": "stderr",
          "text": [
            "/usr/local/lib/python3.11/dist-packages/xgboost/core.py:158: UserWarning: [23:32:43] WARNING: /workspace/src/learner.cc:740: \n",
            "Parameters: { \"use_label_encoder\" } are not used.\n",
            "\n",
            "  warnings.warn(smsg, UserWarning)\n"
          ]
        },
        {
          "output_type": "stream",
          "name": "stdout",
          "text": [
            "\t- Client 5: Training local model\n"
          ]
        },
        {
          "output_type": "stream",
          "name": "stderr",
          "text": [
            "/usr/local/lib/python3.11/dist-packages/xgboost/core.py:158: UserWarning: [23:32:56] WARNING: /workspace/src/learner.cc:740: \n",
            "Parameters: { \"use_label_encoder\" } are not used.\n",
            "\n",
            "  warnings.warn(smsg, UserWarning)\n"
          ]
        },
        {
          "output_type": "stream",
          "name": "stdout",
          "text": [
            "\n",
            "▶️ Round 3/5\n",
            "\t- Client 1: Training local model\n"
          ]
        },
        {
          "output_type": "stream",
          "name": "stderr",
          "text": [
            "/usr/local/lib/python3.11/dist-packages/xgboost/core.py:158: UserWarning: [23:33:09] WARNING: /workspace/src/learner.cc:740: \n",
            "Parameters: { \"use_label_encoder\" } are not used.\n",
            "\n",
            "  warnings.warn(smsg, UserWarning)\n"
          ]
        },
        {
          "output_type": "stream",
          "name": "stdout",
          "text": [
            "\t- Client 2: Training local model\n"
          ]
        },
        {
          "output_type": "stream",
          "name": "stderr",
          "text": [
            "/usr/local/lib/python3.11/dist-packages/xgboost/core.py:158: UserWarning: [23:33:22] WARNING: /workspace/src/learner.cc:740: \n",
            "Parameters: { \"use_label_encoder\" } are not used.\n",
            "\n",
            "  warnings.warn(smsg, UserWarning)\n"
          ]
        },
        {
          "output_type": "stream",
          "name": "stdout",
          "text": [
            "\t- Client 3: Training local model\n"
          ]
        },
        {
          "output_type": "stream",
          "name": "stderr",
          "text": [
            "/usr/local/lib/python3.11/dist-packages/xgboost/core.py:158: UserWarning: [23:33:35] WARNING: /workspace/src/learner.cc:740: \n",
            "Parameters: { \"use_label_encoder\" } are not used.\n",
            "\n",
            "  warnings.warn(smsg, UserWarning)\n"
          ]
        },
        {
          "output_type": "stream",
          "name": "stdout",
          "text": [
            "\t- Client 4: Training local model\n"
          ]
        },
        {
          "output_type": "stream",
          "name": "stderr",
          "text": [
            "/usr/local/lib/python3.11/dist-packages/xgboost/core.py:158: UserWarning: [23:33:48] WARNING: /workspace/src/learner.cc:740: \n",
            "Parameters: { \"use_label_encoder\" } are not used.\n",
            "\n",
            "  warnings.warn(smsg, UserWarning)\n"
          ]
        },
        {
          "output_type": "stream",
          "name": "stdout",
          "text": [
            "\t- Client 5: Training local model\n"
          ]
        },
        {
          "output_type": "stream",
          "name": "stderr",
          "text": [
            "/usr/local/lib/python3.11/dist-packages/xgboost/core.py:158: UserWarning: [23:34:00] WARNING: /workspace/src/learner.cc:740: \n",
            "Parameters: { \"use_label_encoder\" } are not used.\n",
            "\n",
            "  warnings.warn(smsg, UserWarning)\n"
          ]
        },
        {
          "output_type": "stream",
          "name": "stdout",
          "text": [
            "\n",
            "▶️ Round 4/5\n",
            "\t- Client 1: Training local model\n"
          ]
        },
        {
          "output_type": "stream",
          "name": "stderr",
          "text": [
            "/usr/local/lib/python3.11/dist-packages/xgboost/core.py:158: UserWarning: [23:34:11] WARNING: /workspace/src/learner.cc:740: \n",
            "Parameters: { \"use_label_encoder\" } are not used.\n",
            "\n",
            "  warnings.warn(smsg, UserWarning)\n"
          ]
        },
        {
          "output_type": "stream",
          "name": "stdout",
          "text": [
            "\t- Client 2: Training local model\n"
          ]
        },
        {
          "output_type": "stream",
          "name": "stderr",
          "text": [
            "/usr/local/lib/python3.11/dist-packages/xgboost/core.py:158: UserWarning: [23:34:24] WARNING: /workspace/src/learner.cc:740: \n",
            "Parameters: { \"use_label_encoder\" } are not used.\n",
            "\n",
            "  warnings.warn(smsg, UserWarning)\n"
          ]
        },
        {
          "output_type": "stream",
          "name": "stdout",
          "text": [
            "\t- Client 3: Training local model\n"
          ]
        },
        {
          "output_type": "stream",
          "name": "stderr",
          "text": [
            "/usr/local/lib/python3.11/dist-packages/xgboost/core.py:158: UserWarning: [23:34:37] WARNING: /workspace/src/learner.cc:740: \n",
            "Parameters: { \"use_label_encoder\" } are not used.\n",
            "\n",
            "  warnings.warn(smsg, UserWarning)\n"
          ]
        },
        {
          "output_type": "stream",
          "name": "stdout",
          "text": [
            "\t- Client 4: Training local model\n"
          ]
        },
        {
          "output_type": "stream",
          "name": "stderr",
          "text": [
            "/usr/local/lib/python3.11/dist-packages/xgboost/core.py:158: UserWarning: [23:34:50] WARNING: /workspace/src/learner.cc:740: \n",
            "Parameters: { \"use_label_encoder\" } are not used.\n",
            "\n",
            "  warnings.warn(smsg, UserWarning)\n"
          ]
        },
        {
          "output_type": "stream",
          "name": "stdout",
          "text": [
            "\t- Client 5: Training local model\n"
          ]
        },
        {
          "output_type": "stream",
          "name": "stderr",
          "text": [
            "/usr/local/lib/python3.11/dist-packages/xgboost/core.py:158: UserWarning: [23:35:03] WARNING: /workspace/src/learner.cc:740: \n",
            "Parameters: { \"use_label_encoder\" } are not used.\n",
            "\n",
            "  warnings.warn(smsg, UserWarning)\n"
          ]
        },
        {
          "output_type": "stream",
          "name": "stdout",
          "text": [
            "\n",
            "▶️ Round 5/5\n",
            "\t- Client 1: Training local model\n"
          ]
        },
        {
          "output_type": "stream",
          "name": "stderr",
          "text": [
            "/usr/local/lib/python3.11/dist-packages/xgboost/core.py:158: UserWarning: [23:35:16] WARNING: /workspace/src/learner.cc:740: \n",
            "Parameters: { \"use_label_encoder\" } are not used.\n",
            "\n",
            "  warnings.warn(smsg, UserWarning)\n"
          ]
        },
        {
          "output_type": "stream",
          "name": "stdout",
          "text": [
            "\t- Client 2: Training local model\n"
          ]
        },
        {
          "output_type": "stream",
          "name": "stderr",
          "text": [
            "/usr/local/lib/python3.11/dist-packages/xgboost/core.py:158: UserWarning: [23:35:30] WARNING: /workspace/src/learner.cc:740: \n",
            "Parameters: { \"use_label_encoder\" } are not used.\n",
            "\n",
            "  warnings.warn(smsg, UserWarning)\n"
          ]
        },
        {
          "output_type": "stream",
          "name": "stdout",
          "text": [
            "\t- Client 3: Training local model\n"
          ]
        },
        {
          "output_type": "stream",
          "name": "stderr",
          "text": [
            "/usr/local/lib/python3.11/dist-packages/xgboost/core.py:158: UserWarning: [23:35:43] WARNING: /workspace/src/learner.cc:740: \n",
            "Parameters: { \"use_label_encoder\" } are not used.\n",
            "\n",
            "  warnings.warn(smsg, UserWarning)\n"
          ]
        },
        {
          "output_type": "stream",
          "name": "stdout",
          "text": [
            "\t- Client 4: Training local model\n"
          ]
        },
        {
          "output_type": "stream",
          "name": "stderr",
          "text": [
            "/usr/local/lib/python3.11/dist-packages/xgboost/core.py:158: UserWarning: [23:35:56] WARNING: /workspace/src/learner.cc:740: \n",
            "Parameters: { \"use_label_encoder\" } are not used.\n",
            "\n",
            "  warnings.warn(smsg, UserWarning)\n"
          ]
        },
        {
          "output_type": "stream",
          "name": "stdout",
          "text": [
            "\t- Client 5: Training local model\n"
          ]
        },
        {
          "output_type": "stream",
          "name": "stderr",
          "text": [
            "/usr/local/lib/python3.11/dist-packages/xgboost/core.py:158: UserWarning: [23:36:09] WARNING: /workspace/src/learner.cc:740: \n",
            "Parameters: { \"use_label_encoder\" } are not used.\n",
            "\n",
            "  warnings.warn(smsg, UserWarning)\n"
          ]
        }
      ],
      "source": [
        "# 🔄 4. Boucle Federated Learning\n",
        "models = []\n",
        "for rnd in range(rounds):\n",
        "    print(f\"\\n▶️ Round {rnd+1}/{rounds}\")\n",
        "    local_models = []\n",
        "    for idx, (X_local, y_local) in enumerate(clients_data):\n",
        "        print(f\"\\t- Client {idx+1}: Training local model\")\n",
        "        local_model = train_local_model(X_local, y_local)\n",
        "        local_models.append(local_model)\n",
        "    models = local_models\n"
      ]
    },
    {
      "cell_type": "code",
      "execution_count": null,
      "id": "2ca94085",
      "metadata": {
        "id": "2ca94085",
        "colab": {
          "base_uri": "https://localhost:8080/"
        },
        "outputId": "22bc7229-bb55-46d1-bc4c-ddc4745050cc"
      },
      "outputs": [
        {
          "output_type": "stream",
          "name": "stdout",
          "text": [
            "\n",
            "🔄 Agrégation des modèles...\n"
          ]
        }
      ],
      "source": [
        "# Agrégation simple : moyenne des prédictions\n",
        "print(\"\\n🔄 Agrégation des modèles...\")\n",
        "def predict_global(X):\n",
        "    preds = np.zeros((X.shape[0], n_clients))\n",
        "    for i, model in enumerate(models):\n",
        "        preds[:, i] = model.predict_proba(X)[:,1]\n",
        "    final_preds = np.mean(preds, axis=1)\n",
        "    return final_preds\n"
      ]
    },
    {
      "cell_type": "code",
      "execution_count": null,
      "id": "89f6762a",
      "metadata": {
        "id": "89f6762a",
        "colab": {
          "base_uri": "https://localhost:8080/"
        },
        "outputId": "e441df49-d949-4b1e-f195-d968f4c50587"
      },
      "outputs": [
        {
          "output_type": "stream",
          "name": "stdout",
          "text": [
            "\n",
            "👋 Evaluation Finale sur Test Set\n",
            "              precision    recall  f1-score   support\n",
            "\n",
            "           0       0.98      0.99      0.99    368549\n",
            "           1       0.99      0.97      0.98    184274\n",
            "\n",
            "    accuracy                           0.98    552823\n",
            "   macro avg       0.98      0.98      0.98    552823\n",
            "weighted avg       0.98      0.98      0.98    552823\n",
            "\n"
          ]
        }
      ],
      "source": [
        "# 📊 5. Evaluation Globale\n",
        "print(\"\\n👋 Evaluation Finale sur Test Set\")\n",
        "y_pred_prob = predict_global(X_test_fused)\n",
        "y_pred = (y_pred_prob > 0.5).astype(int)\n",
        "\n",
        "print(classification_report(y_test, y_pred))\n"
      ]
    },
    {
      "cell_type": "code",
      "execution_count": null,
      "id": "581f86f0",
      "metadata": {
        "id": "581f86f0",
        "colab": {
          "base_uri": "https://localhost:8080/",
          "height": 472
        },
        "outputId": "42fd78d0-97f2-4b72-df07-73b48fd197f3"
      },
      "outputs": [
        {
          "output_type": "display_data",
          "data": {
            "text/plain": [
              "<Figure size 640x480 with 1 Axes>"
            ],
            "image/png": "[encoded data removed]"
          },
          "metadata": {}
        }
      ],
      "source": [
        "# ROC Curve\n",
        "def plot_roc(y_true, y_scores):\n",
        "    fpr, tpr, thresholds = roc_curve(y_true, y_scores)\n",
        "    roc_auc = auc(fpr, tpr)\n",
        "    plt.figure()\n",
        "    plt.plot(fpr, tpr, color='darkorange', lw=2, label=f'ROC curve (area = {roc_auc:.2f})')\n",
        "    plt.plot([0, 1], [0, 1], color='navy', lw=2, linestyle='--')\n",
        "    plt.xlabel('False Positive Rate')\n",
        "    plt.ylabel('True Positive Rate')\n",
        "    plt.title('Receiver Operating Characteristic')\n",
        "    plt.legend(loc=\"lower right\")\n",
        "    plt.show()\n",
        "\n",
        "plot_roc(y_test, y_pred_prob)\n"
      ]
    },
    {
      "cell_type": "code",
      "execution_count": null,
      "id": "5640e301",
      "metadata": {
        "id": "5640e301",
        "colab": {
          "base_uri": "https://localhost:8080/",
          "height": 472
        },
        "outputId": "f9e491ee-fc1c-4cb1-8eeb-d978276ed9f6"
      },
      "outputs": [
        {
          "output_type": "display_data",
          "data": {
            "text/plain": [
              "<Figure size 640x480 with 2 Axes>"
            ],
            "image/png": "[encoded data removed]"
          },
          "metadata": {}
        }
      ],
      "source": [
        "# Confusion Matrix\n",
        "def plot_conf_matrix(y_true, y_pred):\n",
        "    cm = confusion_matrix(y_true, y_pred)\n",
        "    sns.heatmap(cm, annot=True, fmt='d', cmap='Blues')\n",
        "    plt.xlabel('Predicted')\n",
        "    plt.ylabel('True')\n",
        "    plt.title('Confusion Matrix')\n",
        "    plt.show()\n",
        "\n",
        "plot_conf_matrix(y_test, y_pred)\n"
      ]
    },
    {
      "cell_type": "code",
      "execution_count": null,
      "id": "14bc5f64",
      "metadata": {
        "id": "14bc5f64",
        "colab": {
          "base_uri": "https://localhost:8080/"
        },
        "outputId": "d0b18c85-08ca-4347-97a3-393997cb87fc"
      },
      "outputs": [
        {
          "output_type": "stream",
          "name": "stdout",
          "text": [
            "\n",
            "💾 Rapport HTML généré avec succès: federated_report.html\n"
          ]
        }
      ],
      "source": [
        "# 📈 6. Rapport HTML automatique\n",
        "accuracy = accuracy_score(y_test, y_pred)\n",
        "precision = precision_score(y_test, y_pred)\n",
        "recall = recall_score(y_test, y_pred)\n",
        "f1 = f1_score(y_test, y_pred)\n",
        "roc_auc = auc(*roc_curve(y_test, y_pred_prob)[:2])\n",
        "\n",
        "html_report = f\"\"\"\n",
        "<html>\n",
        "<head><title>Federated Learning Report</title></head>\n",
        "<body>\n",
        "<h1>Federated Learning Evaluation Report</h1>\n",
        "<ul>\n",
        "<li><b>Accuracy:</b> {accuracy:.4f}</li>\n",
        "<li><b>Precision:</b> {precision:.4f}</li>\n",
        "<li><b>Recall:</b> {recall:.4f}</li>\n",
        "<li><b>F1-Score:</b> {f1:.4f}</li>\n",
        "<li><b>ROC AUC:</b> {roc_auc:.4f}</li>\n",
        "</ul>\n",
        "<h2>Conclusion</h2>\n",
        "<p>Le modèle global construit via l'approche Federated Learning sur 5 clients atteint une AUC de {roc_auc:.2%}.\n",
        "Les performances montrent que le modèle est capable de détecter efficacement les anomalies tout en respectant la confidentialité des données distribuées.</p>\n",
        "</body>\n",
        "</html>\n",
        "\"\"\"\n",
        "\n",
        "with open(\"federated_report.html\", \"w\") as f:\n",
        "    f.write(html_report)\n",
        "\n",
        "print(\"\\n💾 Rapport HTML généré avec succès: federated_report.html\")\n"
      ]
    },
    {
      "cell_type": "code",
      "source": [
        "# 📂 Sauvegarde des éléments pour le dashboard\n",
        "import os\n",
        "os.makedirs(\"/content/drive/MyDrive/archive/federated_assets\", exist_ok=True)\n",
        "\n",
        "# 1. Sauvegarde des modèles locaux (pour analyse comparative)\n",
        "for i, model in enumerate(models):\n",
        "    joblib.dump(model, f\"/content/drive/MyDrive/archive/federated_assets/local_model_client_{i}.pkl\")\n",
        "\n",
        "# 2. Métriques globales\n",
        "metrics = {\n",
        "    \"accuracy\": accuracy,\n",
        "    \"precision\": precision,\n",
        "    \"recall\": recall,\n",
        "    \"f1\": f1,\n",
        "    \"roc_auc\": roc_auc\n",
        "}\n",
        "with open(\"/content/drive/MyDrive/archive/federated_assets/global_metrics.pkl\", \"wb\") as f:\n",
        "    pickle.dump(metrics, f)\n",
        "\n",
        "# 3. Courbe ROC (image)\n",
        "plt.figure()\n",
        "plot_roc(y_test, y_pred_prob)\n",
        "plt.savefig(\"/content/drive/MyDrive/archive/federated_assets/roc_curve_fl.png\")\n",
        "plt.close()\n",
        "\n",
        "# 4. Matrice de confusion (image)\n",
        "plt.figure()\n",
        "plot_conf_matrix(y_test, y_pred)\n",
        "plt.savefig(\"/content/drive/MyDrive/archive/federated_assets/confusion_matrix_fl.png\")\n",
        "plt.close()\n",
        "\n",
        "# 5. Prédictions globales (pour comparaison dans le dashboard)\n",
        "np.save(\"/content/drive/MyDrive/archive/federated_assets/y_pred_global.npy\", y_pred)\n",
        "np.save(\"/content/drive/MyDrive/archive/federated_assets/y_pred_prob_global.npy\", y_pred_prob)\n",
        "\n",
        "print(\"✅ Assets Federated Learning sauvegardés !\")"
      ],
      "metadata": {
        "id": "536VnoNodgrB"
      },
      "id": "536VnoNodgrB",
      "execution_count": null,
      "outputs": []
    }
  ],
  "metadata": {
    "colab": {
      "provenance": []
    },
    "language_info": {
      "name": "python"
    },
    "kernelspec": {
      "name": "python3",
      "display_name": "Python 3"
    }
  },
  "nbformat": 4,
  "nbformat_minor": 5
}